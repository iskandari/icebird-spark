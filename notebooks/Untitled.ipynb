{
 "cells": [
  {
   "cell_type": "code",
   "execution_count": 2,
   "id": "0df81bc3-0bd5-431a-925b-03c26e2b8f0e",
   "metadata": {},
   "outputs": [],
   "source": [
    "import os"
   ]
  },
  {
   "cell_type": "code",
   "execution_count": 4,
   "id": "d2213da3-6b73-4d68-865a-6347cd9c36b6",
   "metadata": {},
   "outputs": [],
   "source": [
    "credentials = {\n",
    "'AccessKeyId': os.environ['AWS_ACCESS_KEY_ID'],\n",
    "'SecretAccessKey': os.environ['AWS_SECRET_ACCESS_KEY'],\n",
    "'SessionToken': os.environ['AWS_SESSION_TOKEN']\n",
    "}"
   ]
  },
  {
   "cell_type": "code",
   "execution_count": 5,
   "id": "7642c431-bde4-4843-9437-3c1aea3ab0ff",
   "metadata": {},
   "outputs": [],
   "source": [
    "warehouse_dir = \"s3a://icevogel/\"\n",
    "\n",
    "jars_packages = (\n",
    "    \"org.apache.hadoop:hadoop-aws:3.3.6,\"\n",
    "    \"org.apache.iceberg:iceberg-spark-runtime-3.2_2.12:0.14.0,\"\n",
    "    \"software.amazon.awssdk:url-connection-client:2.17.178,\"\n",
    "    \"software.amazon.awssdk:bundle:2.17.178\"\n",
    ")"
   ]
  },
  {
   "cell_type": "code",
   "execution_count": 8,
   "id": "da0ea609-8f8e-498f-a5f5-0eb7e7214e2b",
   "metadata": {},
   "outputs": [],
   "source": [
    "from pyspark.sql import SparkSession\n",
    "\n",
    "spark = SparkSession.builder \\\n",
    "    .appName(\"Iceberg with Jupyter\") \\\n",
    "    .master(\"spark://spark-master:7077\") \\\n",
    "    .config(\"spark.driver.memory\", \"10g\") \\\n",
    "    .config(\"spark.executor.memory\", \"5g\") \\\n",
    "    .config(\"spark.executor.cores\", \"8\") \\\n",
    "    .config(\"spark.jars.packages\", jars_packages) \\\n",
    "    .config(\"spark.sql.catalog.glue_catalog\", \"org.apache.iceberg.spark.SparkCatalog\") \\\n",
    "    .config(\"spark.sql.catalog.glue_catalog.warehouse\", warehouse_dir) \\\n",
    "    .config(\"spark.sql.catalog.glue_catalog.catalog-impl\", \"org.apache.iceberg.aws.glue.GlueCatalog\") \\\n",
    "    .config(\"spark.sql.catalog.glue_catalog.io-impl\", \"org.apache.iceberg.aws.s3.S3FileIO\") \\\n",
    "    .config(\"spark.sql.catalog.local\", \"org.apache.iceberg.spark.SparkCatalog\") \\\n",
    "    .config(\"spark.sql.catalog.local.type\", \"hadoop\") \\\n",
    "    .config(\"spark.sql.catalog.local.warehouse\", \"s3a://icevogel\") \\\n",
    "    .config(\"spark.sql.catalog.my_catalog.io-impl\", \"org.apache.iceberg.aws.s3.S3FileIO\") \\\n",
    "    .config(\"spark.hadoop.fs.s3a.fast.upload\", \"true\") \\\n",
    "    .config(\"spark.hadoop.fs.s3.impl\", \"org.apache.hadoop.fs.s3a.S3AFileSystem\") \\\n",
    "    .config(\"spark.hadoop.fs.s3a.aws.credentials.provider\", \"org.apache.hadoop.fs.s3a.TemporaryAWSCredentialsProvider\") \\\n",
    "    .config(\"spark.hadoop.fs.s3a.access.key\", credentials['AccessKeyId']) \\\n",
    "    .config(\"spark.hadoop.fs.s3a.secret.key\", credentials['SecretAccessKey']) \\\n",
    "    .config(\"spark.hadoop.fs.s3a.session.token\", credentials['SessionToken']) \\\n",
    "    .getOrCreate()"
   ]
  },
  {
   "cell_type": "code",
   "execution_count": 9,
   "id": "36d799c6-0b07-489b-a332-3954362e3a14",
   "metadata": {},
   "outputs": [
    {
     "name": "stdout",
     "output_type": "stream",
     "text": [
      "+---------+\n",
      "|namespace|\n",
      "+---------+\n",
      "|dashboard|\n",
      "|     vpts|\n",
      "+---------+\n",
      "\n"
     ]
    }
   ],
   "source": [
    "spark.sql(\"SHOW DATABASES IN glue_catalog\").show()"
   ]
  },
  {
   "cell_type": "markdown",
   "id": "f5af1110-ce08-472f-a9f8-9811895a9d02",
   "metadata": {},
   "source": [
    "Tell Spark where to read from (in this case metadata store in the AWS glue catalog)"
   ]
  },
  {
   "cell_type": "code",
   "execution_count": null,
   "id": "03108e03-7d3d-4911-a9b3-3782e016c14d",
   "metadata": {},
   "outputs": [],
   "source": [
    "df_live = spark.read \\\n",
    "    .format(\"iceberg\") \\\n",
    "    .load(\"glue_catalog.dashboard.live_data\")\n"
   ]
  }
 ],
 "metadata": {
  "kernelspec": {
   "display_name": "Python 3 (ipykernel)",
   "language": "python",
   "name": "python3"
  },
  "language_info": {
   "codemirror_mode": {
    "name": "ipython",
    "version": 3
   },
   "file_extension": ".py",
   "mimetype": "text/x-python",
   "name": "python",
   "nbconvert_exporter": "python",
   "pygments_lexer": "ipython3",
   "version": "3.11.6"
  }
 },
 "nbformat": 4,
 "nbformat_minor": 5
}
